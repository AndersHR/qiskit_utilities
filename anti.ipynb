{
 "cells": [
  {
   "cell_type": "code",
   "execution_count": 1,
   "metadata": {},
   "outputs": [],
   "source": [
    "from qiskit import *\n",
    "#from zero_noise_extrapolation import *\n",
    "from anti import *\n",
    "from GenerateRandomCircuit import *\n",
    "import numpy as np\n",
    "import pylab as pl\n",
    "from qiskit.providers.jobstatus import JOB_FINAL_STATES, JobStatus"
   ]
  },
  {
   "cell_type": "code",
   "execution_count": 2,
   "metadata": {},
   "outputs": [],
   "source": [
    "import sys\n",
    "sys.path.append('../')\n",
    "\n",
    "from qiskit_utilities.utilities import *"
   ]
  },
  {
   "cell_type": "code",
   "execution_count": 3,
   "metadata": {},
   "outputs": [],
   "source": [
    "# show all output\n",
    "from IPython.core.interactiveshell import InteractiveShell\n",
    "InteractiveShell.ast_node_interactivity = \"all\""
   ]
  },
  {
   "cell_type": "code",
   "execution_count": 4,
   "metadata": {},
   "outputs": [
    {
     "output_type": "execute_result",
     "data": {
      "text/plain": "<Figure size 1119.72x385.28 with 1 Axes>",
      "image/svg+xml": "<?xml version=\"1.0\" encoding=\"utf-8\" standalone=\"no\"?>\r\n<!DOCTYPE svg PUBLIC \"-//W3C//DTD SVG 1.1//EN\"\r\n  \"http://www.w3.org/Graphics/SVG/1.1/DTD/svg11.dtd\">\r\n<!-- Created with matplotlib (https://matplotlib.org/) -->\r\n<svg height=\"305.2864pt\" version=\"1.1\" viewBox=\"0 0 859.7886 305.2864\" width=\"859.7886pt\" xmlns=\"http://www.w3.org/2000/svg\" xmlns:xlink=\"http://www.w3.org/1999/xlink\">\r\n <defs>\r\n  <style type=\"text/css\">\r\n*{stroke-linecap:butt;stroke-linejoin:round;}\r\n  </style>\r\n </defs>\r\n <g id=\"figure_1\">\r\n  <g id=\"patch_1\">\r\n   <path d=\"M 0 305.2864 \r\nL 859.7886 305.2864 \r\nL 859.7886 0 \r\nL 0 0 \r\nz\r\n\" style=\"fill:#ffffff;\"/>\r\n  </g>\r\n  <g id=\"axes_1\">\r\n   <g id=\"patch_2\">\r\n    <path clip-path=\"url(#pfcb35a472f)\" d=\"M 614.87987 260.475697 \r\nL 626.69713 260.475697 \r\nL 620.7885 270.8158 \r\nz\r\n\" style=\"fill:#778899;\"/>\r\n   </g>\r\n   <g id=\"patch_3\">\r\n    <path clip-path=\"url(#pfcb35a472f)\" d=\"M 660.33087 260.475697 \r\nL 672.14813 260.475697 \r\nL 666.2395 270.8158 \r\nz\r\n\" style=\"fill:#778899;\"/>\r\n   </g>\r\n   <g id=\"patch_4\">\r\n    <path clip-path=\"url(#pfcb35a472f)\" d=\"M 705.78187 260.475697 \r\nL 717.59913 260.475697 \r\nL 711.6905 270.8158 \r\nz\r\n\" style=\"fill:#778899;\"/>\r\n   </g>\r\n   <g id=\"patch_5\">\r\n    <path clip-path=\"url(#pfcb35a472f)\" d=\"M 751.23287 260.475697 \r\nL 763.05013 260.475697 \r\nL 757.1415 270.8158 \r\nz\r\n\" style=\"fill:#778899;\"/>\r\n   </g>\r\n   <g id=\"patch_6\">\r\n    <path clip-path=\"url(#pfcb35a472f)\" d=\"M 796.68387 260.475697 \r\nL 808.50113 260.475697 \r\nL 802.5925 270.8158 \r\nz\r\n\" style=\"fill:#778899;\"/>\r\n   </g>\r\n   <g id=\"line2d_1\">\r\n    <path clip-path=\"url(#pfcb35a472f)\" d=\"M 98.102 43.5608 \r\nL 848.0435 43.5608 \r\n\" style=\"fill:none;stroke:#000000;stroke-linecap:square;stroke-width:2;\"/>\r\n   </g>\r\n   <g id=\"line2d_2\">\r\n    <path clip-path=\"url(#pfcb35a472f)\" d=\"M 98.102 89.0118 \r\nL 848.0435 89.0118 \r\n\" style=\"fill:none;stroke:#000000;stroke-linecap:square;stroke-width:2;\"/>\r\n   </g>\r\n   <g id=\"line2d_3\">\r\n    <path clip-path=\"url(#pfcb35a472f)\" d=\"M 98.102 134.4628 \r\nL 848.0435 134.4628 \r\n\" style=\"fill:none;stroke:#000000;stroke-linecap:square;stroke-width:2;\"/>\r\n   </g>\r\n   <g id=\"line2d_4\">\r\n    <path clip-path=\"url(#pfcb35a472f)\" d=\"M 98.102 179.9138 \r\nL 848.0435 179.9138 \r\n\" style=\"fill:none;stroke:#000000;stroke-linecap:square;stroke-width:2;\"/>\r\n   </g>\r\n   <g id=\"line2d_5\">\r\n    <path clip-path=\"url(#pfcb35a472f)\" d=\"M 98.102 225.3648 \r\nL 848.0435 225.3648 \r\n\" style=\"fill:none;stroke:#000000;stroke-linecap:square;stroke-width:2;\"/>\r\n   </g>\r\n   <g id=\"line2d_6\">\r\n    <path clip-path=\"url(#pfcb35a472f)\" d=\"M 98.102 269.338642 \r\nL 848.0435 269.338642 \r\n\" style=\"fill:none;stroke:#778899;stroke-linecap:square;stroke-width:2;\"/>\r\n   </g>\r\n   <g id=\"line2d_7\">\r\n    <path clip-path=\"url(#pfcb35a472f)\" d=\"M 98.102 272.292957 \r\nL 848.0435 272.292957 \r\n\" style=\"fill:none;stroke:#778899;stroke-linecap:square;stroke-width:2;\"/>\r\n   </g>\r\n   <g id=\"patch_7\">\r\n    <path clip-path=\"url(#pfcb35a472f)\" d=\"M 384.670555 248.0903 \r\nL 402.396445 248.0903 \r\nL 402.396445 20.8353 \r\nL 384.670555 20.8353 \r\nz\r\n\" style=\"fill:#bdbdbd;opacity:0.6;\"/>\r\n   </g>\r\n   <g id=\"patch_8\">\r\n    <path clip-path=\"url(#pfcb35a472f)\" d=\"M 566.474555 248.0903 \r\nL 584.200445 248.0903 \r\nL 584.200445 20.8353 \r\nL 566.474555 20.8353 \r\nz\r\n\" style=\"fill:#bdbdbd;opacity:0.6;\"/>\r\n   </g>\r\n   <g id=\"line2d_8\">\r\n    <path clip-path=\"url(#pfcb35a472f)\" d=\"M 166.2785 134.4628 \r\nL 166.2785 43.5608 \r\n\" style=\"fill:none;stroke:#6fa4ff;stroke-linecap:square;stroke-width:2;\"/>\r\n   </g>\r\n   <g id=\"line2d_9\">\r\n    <path clip-path=\"url(#pfcb35a472f)\" d=\"M 211.7295 134.4628 \r\nL 211.7295 89.0118 \r\n\" style=\"fill:none;stroke:#6fa4ff;stroke-linecap:square;stroke-width:2;\"/>\r\n   </g>\r\n   <g id=\"line2d_10\">\r\n    <path clip-path=\"url(#pfcb35a472f)\" d=\"M 257.1805 225.3648 \r\nL 257.1805 89.0118 \r\n\" style=\"fill:none;stroke:#6fa4ff;stroke-linecap:square;stroke-width:2;\"/>\r\n   </g>\r\n   <g id=\"line2d_11\">\r\n    <path clip-path=\"url(#pfcb35a472f)\" d=\"M 302.6315 225.3648 \r\nL 302.6315 43.5608 \r\n\" style=\"fill:none;stroke:#6fa4ff;stroke-linecap:square;stroke-width:2;\"/>\r\n   </g>\r\n   <g id=\"line2d_12\">\r\n    <path clip-path=\"url(#pfcb35a472f)\" d=\"M 348.0825 225.3648 \r\nL 348.0825 134.4628 \r\n\" style=\"fill:none;stroke:#6fa4ff;stroke-linecap:square;stroke-width:2;\"/>\r\n   </g>\r\n   <g id=\"line2d_13\">\r\n    <path clip-path=\"url(#pfcb35a472f)\" d=\"M 529.8865 179.9138 \r\nL 529.8865 134.4628 \r\n\" style=\"fill:none;stroke:#6fa4ff;stroke-linecap:square;stroke-width:2;\"/>\r\n   </g>\r\n   <g id=\"line2d_14\">\r\n    <path clip-path=\"url(#pfcb35a472f)\" d=\"M 622.265657 43.5608 \r\nL 622.265657 260.475697 \r\n\" style=\"fill:none;stroke:#778899;stroke-linecap:square;stroke-width:2;\"/>\r\n   </g>\r\n   <g id=\"line2d_15\">\r\n    <path clip-path=\"url(#pfcb35a472f)\" d=\"M 619.311342 43.5608 \r\nL 619.311342 260.475697 \r\n\" style=\"fill:none;stroke:#778899;stroke-linecap:square;stroke-width:2;\"/>\r\n   </g>\r\n   <g id=\"line2d_16\">\r\n    <path clip-path=\"url(#pfcb35a472f)\" d=\"M 667.716657 89.0118 \r\nL 667.716657 260.475697 \r\n\" style=\"fill:none;stroke:#778899;stroke-linecap:square;stroke-width:2;\"/>\r\n   </g>\r\n   <g id=\"line2d_17\">\r\n    <path clip-path=\"url(#pfcb35a472f)\" d=\"M 664.762342 89.0118 \r\nL 664.762342 260.475697 \r\n\" style=\"fill:none;stroke:#778899;stroke-linecap:square;stroke-width:2;\"/>\r\n   </g>\r\n   <g id=\"line2d_18\">\r\n    <path clip-path=\"url(#pfcb35a472f)\" d=\"M 713.167657 134.4628 \r\nL 713.167657 260.475697 \r\n\" style=\"fill:none;stroke:#778899;stroke-linecap:square;stroke-width:2;\"/>\r\n   </g>\r\n   <g id=\"line2d_19\">\r\n    <path clip-path=\"url(#pfcb35a472f)\" d=\"M 710.213342 134.4628 \r\nL 710.213342 260.475697 \r\n\" style=\"fill:none;stroke:#778899;stroke-linecap:square;stroke-width:2;\"/>\r\n   </g>\r\n   <g id=\"line2d_20\">\r\n    <path clip-path=\"url(#pfcb35a472f)\" d=\"M 758.618657 179.9138 \r\nL 758.618657 260.475697 \r\n\" style=\"fill:none;stroke:#778899;stroke-linecap:square;stroke-width:2;\"/>\r\n   </g>\r\n   <g id=\"line2d_21\">\r\n    <path clip-path=\"url(#pfcb35a472f)\" d=\"M 755.664342 179.9138 \r\nL 755.664342 260.475697 \r\n\" style=\"fill:none;stroke:#778899;stroke-linecap:square;stroke-width:2;\"/>\r\n   </g>\r\n   <g id=\"line2d_22\">\r\n    <path clip-path=\"url(#pfcb35a472f)\" d=\"M 804.069657 225.3648 \r\nL 804.069657 260.475697 \r\n\" style=\"fill:none;stroke:#778899;stroke-linecap:square;stroke-width:2;\"/>\r\n   </g>\r\n   <g id=\"line2d_23\">\r\n    <path clip-path=\"url(#pfcb35a472f)\" d=\"M 801.115342 225.3648 \r\nL 801.115342 260.475697 \r\n\" style=\"fill:none;stroke:#778899;stroke-linecap:square;stroke-width:2;\"/>\r\n   </g>\r\n   <g id=\"line2d_24\">\r\n    <path clip-path=\"url(#pfcb35a472f)\" d=\"M 125.3726 275.3609 \r\nL 129.9177 266.2707 \r\n\" style=\"fill:none;stroke:#778899;stroke-linecap:square;stroke-width:1.5;\"/>\r\n   </g>\r\n   <g id=\"patch_9\">\r\n    <path clip-path=\"url(#pfcb35a472f)\" d=\"M 106.055925 58.332375 \r\nL 135.599075 58.332375 \r\nL 135.599075 28.789225 \r\nL 106.055925 28.789225 \r\nz\r\n\" style=\"fill:#05bab6;\"/>\r\n   </g>\r\n   <g id=\"patch_10\">\r\n    <path clip-path=\"url(#pfcb35a472f)\" d=\"M 106.055925 103.783375 \r\nL 135.599075 103.783375 \r\nL 135.599075 74.240225 \r\nL 106.055925 74.240225 \r\nz\r\n\" style=\"fill:#05bab6;\"/>\r\n   </g>\r\n   <g id=\"patch_11\">\r\n    <path clip-path=\"url(#pfcb35a472f)\" d=\"M 106.055925 194.685375 \r\nL 135.599075 194.685375 \r\nL 135.599075 165.142225 \r\nL 106.055925 165.142225 \r\nz\r\n\" style=\"fill:#6fa4ff;\"/>\r\n   </g>\r\n   <g id=\"patch_12\">\r\n    <path clip-path=\"url(#pfcb35a472f)\" d=\"M 106.055925 240.136375 \r\nL 135.599075 240.136375 \r\nL 135.599075 210.593225 \r\nL 106.055925 210.593225 \r\nz\r\n\" style=\"fill:#6fa4ff;\"/>\r\n   </g>\r\n   <g id=\"patch_13\">\r\n    <path clip-path=\"url(#pfcb35a472f)\" d=\"M 166.2785 47.992272 \r\nC 167.45374 47.992272 168.581004 47.525345 169.412024 46.694324 \r\nC 170.243045 45.863304 170.709973 44.73604 170.709973 43.5608 \r\nC 170.709973 42.38556 170.243045 41.258296 169.412024 40.427276 \r\nC 168.581004 39.596255 167.45374 39.129327 166.2785 39.129327 \r\nC 165.10326 39.129327 163.975996 39.596255 163.144976 40.427276 \r\nC 162.313955 41.258296 161.847027 42.38556 161.847027 43.5608 \r\nC 161.847027 44.73604 162.313955 45.863304 163.144976 46.694324 \r\nC 163.975996 47.525345 165.10326 47.992272 166.2785 47.992272 \r\nz\r\n\" style=\"fill:#6fa4ff;stroke:#6fa4ff;stroke-linejoin:miter;stroke-width:1.5;\"/>\r\n   </g>\r\n   <g id=\"patch_14\">\r\n    <path clip-path=\"url(#pfcb35a472f)\" d=\"M 166.2785 144.802902 \r\nC 169.020727 144.802902 171.651009 143.713404 173.590057 141.774357 \r\nC 175.529104 139.835309 176.618603 137.205027 176.618603 134.4628 \r\nC 176.618603 131.720573 175.529104 129.090291 173.590057 127.151243 \r\nC 171.651009 125.212196 169.020727 124.122697 166.2785 124.122697 \r\nC 163.536273 124.122697 160.905991 125.212196 158.966943 127.151243 \r\nC 157.027896 129.090291 155.938398 131.720573 155.938398 134.4628 \r\nC 155.938398 137.205027 157.027896 139.835309 158.966943 141.774357 \r\nC 160.905991 143.713404 163.536273 144.802902 166.2785 144.802902 \r\nz\r\n\" style=\"fill:#6fa4ff;stroke:#6fa4ff;stroke-linejoin:miter;stroke-width:2;\"/>\r\n   </g>\r\n   <g id=\"patch_15\">\r\n    <path clip-path=\"url(#pfcb35a472f)\" d=\"M 151.506925 194.685375 \r\nL 181.050075 194.685375 \r\nL 181.050075 165.142225 \r\nL 151.506925 165.142225 \r\nz\r\n\" style=\"fill:#05bab6;\"/>\r\n   </g>\r\n   <g id=\"patch_16\">\r\n    <path clip-path=\"url(#pfcb35a472f)\" d=\"M 151.506925 240.136375 \r\nL 181.050075 240.136375 \r\nL 181.050075 210.593225 \r\nL 151.506925 210.593225 \r\nz\r\n\" style=\"fill:#05bab6;\"/>\r\n   </g>\r\n   <g id=\"patch_17\">\r\n    <path clip-path=\"url(#pfcb35a472f)\" d=\"M 211.7295 93.443272 \r\nC 212.90474 93.443272 214.032004 92.976345 214.863024 92.145324 \r\nC 215.694045 91.314304 216.160972 90.18704 216.160972 89.0118 \r\nC 216.160972 87.83656 215.694045 86.709296 214.863024 85.878276 \r\nC 214.032004 85.047255 212.90474 84.580327 211.7295 84.580327 \r\nC 210.55426 84.580327 209.426996 85.047255 208.595976 85.878276 \r\nC 207.764955 86.709296 207.298027 87.83656 207.298027 89.0118 \r\nC 207.298027 90.18704 207.764955 91.314304 208.595976 92.145324 \r\nC 209.426996 92.976345 210.55426 93.443272 211.7295 93.443272 \r\nz\r\n\" style=\"fill:#6fa4ff;stroke:#6fa4ff;stroke-linejoin:miter;stroke-width:1.5;\"/>\r\n   </g>\r\n   <g id=\"patch_18\">\r\n    <path clip-path=\"url(#pfcb35a472f)\" d=\"M 211.7295 144.802902 \r\nC 214.471727 144.802902 217.102009 143.713404 219.041057 141.774357 \r\nC 220.980104 139.835309 222.069602 137.205027 222.069602 134.4628 \r\nC 222.069602 131.720573 220.980104 129.090291 219.041057 127.151243 \r\nC 217.102009 125.212196 214.471727 124.122697 211.7295 124.122697 \r\nC 208.987273 124.122697 206.356991 125.212196 204.417943 127.151243 \r\nC 202.478896 129.090291 201.389397 131.720573 201.389397 134.4628 \r\nC 201.389397 137.205027 202.478896 139.835309 204.417943 141.774357 \r\nC 206.356991 143.713404 208.987273 144.802902 211.7295 144.802902 \r\nz\r\n\" style=\"fill:#6fa4ff;stroke:#6fa4ff;stroke-linejoin:miter;stroke-width:2;\"/>\r\n   </g>\r\n   <g id=\"patch_19\">\r\n    <path clip-path=\"url(#pfcb35a472f)\" d=\"M 257.1805 229.796272 \r\nC 258.35574 229.796272 259.483004 229.329345 260.314024 228.498324 \r\nC 261.145045 227.667304 261.611972 226.54004 261.611972 225.3648 \r\nC 261.611972 224.18956 261.145045 223.062296 260.314024 222.231276 \r\nC 259.483004 221.400255 258.35574 220.933327 257.1805 220.933327 \r\nC 256.00526 220.933327 254.877996 221.400255 254.046976 222.231276 \r\nC 253.215955 223.062296 252.749027 224.18956 252.749027 225.3648 \r\nC 252.749027 226.54004 253.215955 227.667304 254.046976 228.498324 \r\nC 254.877996 229.329345 256.00526 229.796272 257.1805 229.796272 \r\nz\r\n\" style=\"fill:#6fa4ff;stroke:#6fa4ff;stroke-linejoin:miter;stroke-width:1.5;\"/>\r\n   </g>\r\n   <g id=\"patch_20\">\r\n    <path clip-path=\"url(#pfcb35a472f)\" d=\"M 257.1805 99.351902 \r\nC 259.922727 99.351902 262.553009 98.262404 264.492057 96.323357 \r\nC 266.431104 94.384309 267.520602 91.754027 267.520602 89.0118 \r\nC 267.520602 86.269573 266.431104 83.639291 264.492057 81.700243 \r\nC 262.553009 79.761196 259.922727 78.671697 257.1805 78.671697 \r\nC 254.438273 78.671697 251.807991 79.761196 249.868943 81.700243 \r\nC 247.929896 83.639291 246.840397 86.269573 246.840397 89.0118 \r\nC 246.840397 91.754027 247.929896 94.384309 249.868943 96.323357 \r\nC 251.807991 98.262404 254.438273 99.351902 257.1805 99.351902 \r\nz\r\n\" style=\"fill:#6fa4ff;stroke:#6fa4ff;stroke-linejoin:miter;stroke-width:2;\"/>\r\n   </g>\r\n   <g id=\"patch_21\">\r\n    <path clip-path=\"url(#pfcb35a472f)\" d=\"M 302.6315 47.992272 \r\nC 303.80674 47.992272 304.934004 47.525345 305.765024 46.694324 \r\nC 306.596045 45.863304 307.062972 44.73604 307.062972 43.5608 \r\nC 307.062972 42.38556 306.596045 41.258296 305.765024 40.427276 \r\nC 304.934004 39.596255 303.80674 39.129327 302.6315 39.129327 \r\nC 301.45626 39.129327 300.328996 39.596255 299.497976 40.427276 \r\nC 298.666955 41.258296 298.200027 42.38556 298.200027 43.5608 \r\nC 298.200027 44.73604 298.666955 45.863304 299.497976 46.694324 \r\nC 300.328996 47.525345 301.45626 47.992272 302.6315 47.992272 \r\nz\r\n\" style=\"fill:#6fa4ff;stroke:#6fa4ff;stroke-linejoin:miter;stroke-width:1.5;\"/>\r\n   </g>\r\n   <g id=\"patch_22\">\r\n    <path clip-path=\"url(#pfcb35a472f)\" d=\"M 302.6315 235.704902 \r\nC 305.373727 235.704902 308.004009 234.615404 309.943057 232.676357 \r\nC 311.882104 230.737309 312.971602 228.107027 312.971602 225.3648 \r\nC 312.971602 222.622573 311.882104 219.992291 309.943057 218.053243 \r\nC 308.004009 216.114196 305.373727 215.024697 302.6315 215.024697 \r\nC 299.889273 215.024697 297.258991 216.114196 295.319943 218.053243 \r\nC 293.380896 219.992291 292.291397 222.622573 292.291397 225.3648 \r\nC 292.291397 228.107027 293.380896 230.737309 295.319943 232.676357 \r\nC 297.258991 234.615404 299.889273 235.704902 302.6315 235.704902 \r\nz\r\n\" style=\"fill:#6fa4ff;stroke:#6fa4ff;stroke-linejoin:miter;stroke-width:2;\"/>\r\n   </g>\r\n   <g id=\"patch_23\">\r\n    <path clip-path=\"url(#pfcb35a472f)\" d=\"M 348.0825 138.894272 \r\nC 349.25774 138.894272 350.385004 138.427345 351.216024 137.596324 \r\nC 352.047045 136.765304 352.513972 135.63804 352.513972 134.4628 \r\nC 352.513972 133.28756 352.047045 132.160296 351.216024 131.329276 \r\nC 350.385004 130.498255 349.25774 130.031327 348.0825 130.031327 \r\nC 346.90726 130.031327 345.779996 130.498255 344.948976 131.329276 \r\nC 344.117955 132.160296 343.651027 133.28756 343.651027 134.4628 \r\nC 343.651027 135.63804 344.117955 136.765304 344.948976 137.596324 \r\nC 345.779996 138.427345 346.90726 138.894272 348.0825 138.894272 \r\nz\r\n\" style=\"fill:#6fa4ff;stroke:#6fa4ff;stroke-linejoin:miter;stroke-width:1.5;\"/>\r\n   </g>\r\n   <g id=\"patch_24\">\r\n    <path clip-path=\"url(#pfcb35a472f)\" d=\"M 348.0825 235.704902 \r\nC 350.824727 235.704902 353.455009 234.615404 355.394057 232.676357 \r\nC 357.333104 230.737309 358.422602 228.107027 358.422602 225.3648 \r\nC 358.422602 222.622573 357.333104 219.992291 355.394057 218.053243 \r\nC 353.455009 216.114196 350.824727 215.024697 348.0825 215.024697 \r\nC 345.340273 215.024697 342.709991 216.114196 340.770943 218.053243 \r\nC 338.831896 219.992291 337.742397 222.622573 337.742397 225.3648 \r\nC 337.742397 228.107027 338.831896 230.737309 340.770943 232.676357 \r\nC 342.709991 234.615404 345.340273 235.704902 348.0825 235.704902 \r\nz\r\n\" style=\"fill:#6fa4ff;stroke:#6fa4ff;stroke-linejoin:miter;stroke-width:2;\"/>\r\n   </g>\r\n   <g id=\"patch_25\">\r\n    <path clip-path=\"url(#pfcb35a472f)\" d=\"M 424.212925 149.234375 \r\nL 453.756075 149.234375 \r\nL 453.756075 119.691225 \r\nL 424.212925 119.691225 \r\nz\r\n\" style=\"fill:#05bab6;\"/>\r\n   </g>\r\n   <g id=\"patch_26\">\r\n    <path clip-path=\"url(#pfcb35a472f)\" d=\"M 424.212925 194.685375 \r\nL 453.756075 194.685375 \r\nL 453.756075 165.142225 \r\nL 424.212925 165.142225 \r\nz\r\n\" style=\"fill:#05bab6;\"/>\r\n   </g>\r\n   <g id=\"patch_27\">\r\n    <path clip-path=\"url(#pfcb35a472f)\" d=\"M 469.663925 194.685375 \r\nL 499.207075 194.685375 \r\nL 499.207075 165.142225 \r\nL 469.663925 165.142225 \r\nz\r\n\" style=\"fill:#6fa4ff;\"/>\r\n   </g>\r\n   <g id=\"patch_28\">\r\n    <path clip-path=\"url(#pfcb35a472f)\" d=\"M 529.8865 138.894272 \r\nC 531.06174 138.894272 532.189004 138.427345 533.020024 137.596324 \r\nC 533.851045 136.765304 534.317972 135.63804 534.317972 134.4628 \r\nC 534.317972 133.28756 533.851045 132.160296 533.020024 131.329276 \r\nC 532.189004 130.498255 531.06174 130.031327 529.8865 130.031327 \r\nC 528.71126 130.031327 527.583996 130.498255 526.752976 131.329276 \r\nC 525.921955 132.160296 525.455027 133.28756 525.455027 134.4628 \r\nC 525.455027 135.63804 525.921955 136.765304 526.752976 137.596324 \r\nC 527.583996 138.427345 528.71126 138.894272 529.8865 138.894272 \r\nz\r\n\" style=\"fill:#6fa4ff;stroke:#6fa4ff;stroke-linejoin:miter;stroke-width:1.5;\"/>\r\n   </g>\r\n   <g id=\"patch_29\">\r\n    <path clip-path=\"url(#pfcb35a472f)\" d=\"M 529.8865 190.253902 \r\nC 532.628727 190.253902 535.259009 189.164404 537.198057 187.225357 \r\nC 539.137104 185.286309 540.226602 182.656027 540.226602 179.9138 \r\nC 540.226602 177.171573 539.137104 174.541291 537.198057 172.602243 \r\nC 535.259009 170.663196 532.628727 169.573697 529.8865 169.573697 \r\nC 527.144273 169.573697 524.513991 170.663196 522.574943 172.602243 \r\nC 520.635896 174.541291 519.546398 177.171573 519.546398 179.9138 \r\nC 519.546398 182.656027 520.635896 185.286309 522.574943 187.225357 \r\nC 524.513991 189.164404 527.144273 190.253902 529.8865 190.253902 \r\nz\r\n\" style=\"fill:#6fa4ff;stroke:#6fa4ff;stroke-linejoin:miter;stroke-width:2;\"/>\r\n   </g>\r\n   <g id=\"patch_30\">\r\n    <path clip-path=\"url(#pfcb35a472f)\" d=\"M 606.016925 58.332375 \r\nL 635.560075 58.332375 \r\nL 635.560075 28.789225 \r\nL 606.016925 28.789225 \r\nz\r\n\"/>\r\n   </g>\r\n   <g id=\"patch_31\">\r\n    <path clip-path=\"url(#pfcb35a472f)\" d=\"M 631.128602 47.992272 \r\nC 631.128602 45.250959 630.038458 42.619118 628.100057 40.680716 \r\nC 626.161655 38.742314 623.529814 37.65217 620.7885 37.65217 \r\nC 618.047186 37.65217 615.415345 38.742314 613.476943 40.680716 \r\nC 611.538542 42.619118 610.448397 45.250959 610.448397 47.992272 \r\n\" style=\"fill:none;stroke:#ffffff;stroke-linejoin:miter;stroke-width:2;\"/>\r\n   </g>\r\n   <g id=\"patch_32\">\r\n    <path clip-path=\"url(#pfcb35a472f)\" d=\"M 651.467925 103.783375 \r\nL 681.011075 103.783375 \r\nL 681.011075 74.240225 \r\nL 651.467925 74.240225 \r\nz\r\n\"/>\r\n   </g>\r\n   <g id=\"patch_33\">\r\n    <path clip-path=\"url(#pfcb35a472f)\" d=\"M 676.579602 93.443272 \r\nC 676.579602 90.701959 675.489458 88.070118 673.551057 86.131716 \r\nC 671.612655 84.193314 668.980814 83.10317 666.2395 83.10317 \r\nC 663.498186 83.10317 660.866345 84.193314 658.927943 86.131716 \r\nC 656.989542 88.070118 655.899397 90.701959 655.899397 93.443272 \r\n\" style=\"fill:none;stroke:#ffffff;stroke-linejoin:miter;stroke-width:2;\"/>\r\n   </g>\r\n   <g id=\"patch_34\">\r\n    <path clip-path=\"url(#pfcb35a472f)\" d=\"M 696.918925 149.234375 \r\nL 726.462075 149.234375 \r\nL 726.462075 119.691225 \r\nL 696.918925 119.691225 \r\nz\r\n\"/>\r\n   </g>\r\n   <g id=\"patch_35\">\r\n    <path clip-path=\"url(#pfcb35a472f)\" d=\"M 722.030602 138.894272 \r\nC 722.030602 136.152959 720.940458 133.521118 719.002057 131.582716 \r\nC 717.063655 129.644314 714.431814 128.55417 711.6905 128.55417 \r\nC 708.949186 128.55417 706.317345 129.644314 704.378943 131.582716 \r\nC 702.440542 133.521118 701.350397 136.152959 701.350397 138.894272 \r\n\" style=\"fill:none;stroke:#ffffff;stroke-linejoin:miter;stroke-width:2;\"/>\r\n   </g>\r\n   <g id=\"patch_36\">\r\n    <path clip-path=\"url(#pfcb35a472f)\" d=\"M 742.369925 194.685375 \r\nL 771.913075 194.685375 \r\nL 771.913075 165.142225 \r\nL 742.369925 165.142225 \r\nz\r\n\"/>\r\n   </g>\r\n   <g id=\"patch_37\">\r\n    <path clip-path=\"url(#pfcb35a472f)\" d=\"M 767.481602 184.345272 \r\nC 767.481602 181.603959 766.391458 178.972118 764.453057 177.033716 \r\nC 762.514655 175.095314 759.882814 174.00517 757.1415 174.00517 \r\nC 754.400186 174.00517 751.768345 175.095314 749.829943 177.033716 \r\nC 747.891542 178.972118 746.801397 181.603959 746.801397 184.345272 \r\n\" style=\"fill:none;stroke:#ffffff;stroke-linejoin:miter;stroke-width:2;\"/>\r\n   </g>\r\n   <g id=\"patch_38\">\r\n    <path clip-path=\"url(#pfcb35a472f)\" d=\"M 787.820925 240.136375 \r\nL 817.364075 240.136375 \r\nL 817.364075 210.593225 \r\nL 787.820925 210.593225 \r\nz\r\n\"/>\r\n   </g>\r\n   <g id=\"patch_39\">\r\n    <path clip-path=\"url(#pfcb35a472f)\" d=\"M 812.932602 229.796272 \r\nC 812.932602 227.054959 811.842458 224.423118 809.904057 222.484716 \r\nC 807.965655 220.546314 805.333814 219.45617 802.5925 219.45617 \r\nC 799.851186 219.45617 797.219345 220.546314 795.280943 222.484716 \r\nC 793.342542 224.423118 792.252397 227.054959 792.252397 229.796272 \r\n\" style=\"fill:none;stroke:#ffffff;stroke-linejoin:miter;stroke-width:2;\"/>\r\n   </g>\r\n   <g id=\"line2d_25\">\r\n    <path clip-path=\"url(#pfcb35a472f)\" d=\"M 620.7885 47.992272 \r\nL 631.128602 37.65217 \r\n\" style=\"fill:none;stroke:#ffffff;stroke-linecap:square;stroke-width:2;\"/>\r\n   </g>\r\n   <g id=\"line2d_26\">\r\n    <path clip-path=\"url(#pfcb35a472f)\" d=\"M 666.2395 93.443272 \r\nL 676.579602 83.10317 \r\n\" style=\"fill:none;stroke:#ffffff;stroke-linecap:square;stroke-width:2;\"/>\r\n   </g>\r\n   <g id=\"line2d_27\">\r\n    <path clip-path=\"url(#pfcb35a472f)\" d=\"M 711.6905 138.894272 \r\nL 722.030602 128.55417 \r\n\" style=\"fill:none;stroke:#ffffff;stroke-linecap:square;stroke-width:2;\"/>\r\n   </g>\r\n   <g id=\"line2d_28\">\r\n    <path clip-path=\"url(#pfcb35a472f)\" d=\"M 757.1415 184.345272 \r\nL 767.481602 174.00517 \r\n\" style=\"fill:none;stroke:#ffffff;stroke-linecap:square;stroke-width:2;\"/>\r\n   </g>\r\n   <g id=\"line2d_29\">\r\n    <path clip-path=\"url(#pfcb35a472f)\" d=\"M 802.5925 229.796272 \r\nL 812.932602 219.45617 \r\n\" style=\"fill:none;stroke:#ffffff;stroke-linecap:square;stroke-width:2;\"/>\r\n   </g>\r\n   <g id=\"line2d_30\">\r\n    <path clip-path=\"url(#pfcb35a472f)\" d=\"M 166.2785 140.37143 \r\nL 166.2785 128.55417 \r\n\" style=\"fill:none;stroke:#ffffff;stroke-linecap:square;stroke-width:2;\"/>\r\n   </g>\r\n   <g id=\"line2d_31\">\r\n    <path clip-path=\"url(#pfcb35a472f)\" d=\"M 160.36987 134.4628 \r\nL 172.18713 134.4628 \r\n\" style=\"fill:none;stroke:#ffffff;stroke-linecap:square;stroke-width:2;\"/>\r\n   </g>\r\n   <g id=\"line2d_32\">\r\n    <path clip-path=\"url(#pfcb35a472f)\" d=\"M 211.7295 140.37143 \r\nL 211.7295 128.55417 \r\n\" style=\"fill:none;stroke:#ffffff;stroke-linecap:square;stroke-width:2;\"/>\r\n   </g>\r\n   <g id=\"line2d_33\">\r\n    <path clip-path=\"url(#pfcb35a472f)\" d=\"M 205.82087 134.4628 \r\nL 217.63813 134.4628 \r\n\" style=\"fill:none;stroke:#ffffff;stroke-linecap:square;stroke-width:2;\"/>\r\n   </g>\r\n   <g id=\"line2d_34\">\r\n    <path clip-path=\"url(#pfcb35a472f)\" d=\"M 257.1805 94.92043 \r\nL 257.1805 83.10317 \r\n\" style=\"fill:none;stroke:#ffffff;stroke-linecap:square;stroke-width:2;\"/>\r\n   </g>\r\n   <g id=\"line2d_35\">\r\n    <path clip-path=\"url(#pfcb35a472f)\" d=\"M 251.27187 89.0118 \r\nL 263.08913 89.0118 \r\n\" style=\"fill:none;stroke:#ffffff;stroke-linecap:square;stroke-width:2;\"/>\r\n   </g>\r\n   <g id=\"line2d_36\">\r\n    <path clip-path=\"url(#pfcb35a472f)\" d=\"M 302.6315 231.27343 \r\nL 302.6315 219.45617 \r\n\" style=\"fill:none;stroke:#ffffff;stroke-linecap:square;stroke-width:2;\"/>\r\n   </g>\r\n   <g id=\"line2d_37\">\r\n    <path clip-path=\"url(#pfcb35a472f)\" d=\"M 296.72287 225.3648 \r\nL 308.54013 225.3648 \r\n\" style=\"fill:none;stroke:#ffffff;stroke-linecap:square;stroke-width:2;\"/>\r\n   </g>\r\n   <g id=\"line2d_38\">\r\n    <path clip-path=\"url(#pfcb35a472f)\" d=\"M 348.0825 231.27343 \r\nL 348.0825 219.45617 \r\n\" style=\"fill:none;stroke:#ffffff;stroke-linecap:square;stroke-width:2;\"/>\r\n   </g>\r\n   <g id=\"line2d_39\">\r\n    <path clip-path=\"url(#pfcb35a472f)\" d=\"M 342.17387 225.3648 \r\nL 353.99113 225.3648 \r\n\" style=\"fill:none;stroke:#ffffff;stroke-linecap:square;stroke-width:2;\"/>\r\n   </g>\r\n   <g id=\"line2d_40\">\r\n    <path clip-path=\"url(#pfcb35a472f)\" d=\"M 393.5335 20.8353 \r\nL 393.5335 66.2863 \r\n\" style=\"fill:none;stroke:#000000;stroke-dasharray:3.7,1.6;stroke-dashoffset:0;\"/>\r\n   </g>\r\n   <g id=\"line2d_41\">\r\n    <path clip-path=\"url(#pfcb35a472f)\" d=\"M 393.5335 66.2863 \r\nL 393.5335 111.7373 \r\n\" style=\"fill:none;stroke:#000000;stroke-dasharray:3.7,1.6;stroke-dashoffset:0;\"/>\r\n   </g>\r\n   <g id=\"line2d_42\">\r\n    <path clip-path=\"url(#pfcb35a472f)\" d=\"M 393.5335 111.7373 \r\nL 393.5335 157.1883 \r\n\" style=\"fill:none;stroke:#000000;stroke-dasharray:3.7,1.6;stroke-dashoffset:0;\"/>\r\n   </g>\r\n   <g id=\"line2d_43\">\r\n    <path clip-path=\"url(#pfcb35a472f)\" d=\"M 393.5335 157.1883 \r\nL 393.5335 202.6393 \r\n\" style=\"fill:none;stroke:#000000;stroke-dasharray:3.7,1.6;stroke-dashoffset:0;\"/>\r\n   </g>\r\n   <g id=\"line2d_44\">\r\n    <path clip-path=\"url(#pfcb35a472f)\" d=\"M 393.5335 202.6393 \r\nL 393.5335 248.0903 \r\n\" style=\"fill:none;stroke:#000000;stroke-dasharray:3.7,1.6;stroke-dashoffset:0;\"/>\r\n   </g>\r\n   <g id=\"line2d_45\">\r\n    <path clip-path=\"url(#pfcb35a472f)\" d=\"M 529.8865 185.82243 \r\nL 529.8865 174.00517 \r\n\" style=\"fill:none;stroke:#ffffff;stroke-linecap:square;stroke-width:2;\"/>\r\n   </g>\r\n   <g id=\"line2d_46\">\r\n    <path clip-path=\"url(#pfcb35a472f)\" d=\"M 523.97787 179.9138 \r\nL 535.79513 179.9138 \r\n\" style=\"fill:none;stroke:#ffffff;stroke-linecap:square;stroke-width:2;\"/>\r\n   </g>\r\n   <g id=\"line2d_47\">\r\n    <path clip-path=\"url(#pfcb35a472f)\" d=\"M 575.3375 20.8353 \r\nL 575.3375 66.2863 \r\n\" style=\"fill:none;stroke:#000000;stroke-dasharray:3.7,1.6;stroke-dashoffset:0;\"/>\r\n   </g>\r\n   <g id=\"line2d_48\">\r\n    <path clip-path=\"url(#pfcb35a472f)\" d=\"M 575.3375 66.2863 \r\nL 575.3375 111.7373 \r\n\" style=\"fill:none;stroke:#000000;stroke-dasharray:3.7,1.6;stroke-dashoffset:0;\"/>\r\n   </g>\r\n   <g id=\"line2d_49\">\r\n    <path clip-path=\"url(#pfcb35a472f)\" d=\"M 575.3375 111.7373 \r\nL 575.3375 157.1883 \r\n\" style=\"fill:none;stroke:#000000;stroke-dasharray:3.7,1.6;stroke-dashoffset:0;\"/>\r\n   </g>\r\n   <g id=\"line2d_50\">\r\n    <path clip-path=\"url(#pfcb35a472f)\" d=\"M 575.3375 157.1883 \r\nL 575.3375 202.6393 \r\n\" style=\"fill:none;stroke:#000000;stroke-dasharray:3.7,1.6;stroke-dashoffset:0;\"/>\r\n   </g>\r\n   <g id=\"line2d_51\">\r\n    <path clip-path=\"url(#pfcb35a472f)\" d=\"M 575.3375 202.6393 \r\nL 575.3375 248.0903 \r\n\" style=\"fill:none;stroke:#000000;stroke-dasharray:3.7,1.6;stroke-dashoffset:0;\"/>\r\n   </g>\r\n   <g id=\"text_1\">\r\n    <g clip-path=\"url(#pfcb35a472f)\">\r\n     <!-- $X$ -->\r\n     <defs>\r\n      <path d=\"M 13.71875 72.90625 \r\nL 23.6875 72.90625 \r\nL 36.1875 46.578125 \r\nL 58.796875 72.90625 \r\nL 70.3125 72.90625 \r\nL 40.28125 38.09375 \r\nL 58.40625 0 \r\nL 48.484375 0 \r\nL 33.796875 30.71875 \r\nL 7.171875 0 \r\nL -4.296875 0 \r\nL 29.78125 39.203125 \r\nz\r\n\" id=\"DejaVuSans-Oblique-88\"/>\r\n     </defs>\r\n     <g transform=\"translate(116.3425 47.147987)scale(0.13 -0.13)\">\r\n      <use transform=\"translate(0 0.09375)\" xlink:href=\"#DejaVuSans-Oblique-88\"/>\r\n     </g>\r\n    </g>\r\n   </g>\r\n   <g id=\"text_2\">\r\n    <g clip-path=\"url(#pfcb35a472f)\">\r\n     <!-- $X$ -->\r\n     <g transform=\"translate(116.3425 92.598987)scale(0.13 -0.13)\">\r\n      <use transform=\"translate(0 0.09375)\" xlink:href=\"#DejaVuSans-Oblique-88\"/>\r\n     </g>\r\n    </g>\r\n   </g>\r\n   <g id=\"text_3\">\r\n    <g clip-path=\"url(#pfcb35a472f)\">\r\n     <!-- $H$ -->\r\n     <defs>\r\n      <path d=\"M 16.890625 72.90625 \r\nL 26.8125 72.90625 \r\nL 21 43.015625 \r\nL 56.78125 43.015625 \r\nL 62.59375 72.90625 \r\nL 72.515625 72.90625 \r\nL 58.296875 0 \r\nL 48.390625 0 \r\nL 55.171875 34.71875 \r\nL 19.390625 34.71875 \r\nL 12.59375 0 \r\nL 2.6875 0 \r\nz\r\n\" id=\"DejaVuSans-Oblique-72\"/>\r\n     </defs>\r\n     <g transform=\"translate(115.8875 183.500987)scale(0.13 -0.13)\">\r\n      <use transform=\"translate(0 0.09375)\" xlink:href=\"#DejaVuSans-Oblique-72\"/>\r\n     </g>\r\n    </g>\r\n   </g>\r\n   <g id=\"text_4\">\r\n    <g clip-path=\"url(#pfcb35a472f)\">\r\n     <!-- $H$ -->\r\n     <g transform=\"translate(115.8875 228.951987)scale(0.13 -0.13)\">\r\n      <use transform=\"translate(0 0.09375)\" xlink:href=\"#DejaVuSans-Oblique-72\"/>\r\n     </g>\r\n    </g>\r\n   </g>\r\n   <g id=\"text_5\">\r\n    <g clip-path=\"url(#pfcb35a472f)\">\r\n     <!-- $Z$ -->\r\n     <defs>\r\n      <path d=\"M 13.09375 72.90625 \r\nL 70.3125 72.90625 \r\nL 68.890625 65.375 \r\nL 12.40625 8.296875 \r\nL 58.890625 8.296875 \r\nL 57.328125 0 \r\nL -2.203125 0 \r\nL -0.78125 7.515625 \r\nL 55.71875 64.59375 \r\nL 11.53125 64.59375 \r\nz\r\n\" id=\"DejaVuSans-Oblique-90\"/>\r\n     </defs>\r\n     <g transform=\"translate(161.7935 183.500987)scale(0.13 -0.13)\">\r\n      <use transform=\"translate(0 0.09375)\" xlink:href=\"#DejaVuSans-Oblique-90\"/>\r\n     </g>\r\n    </g>\r\n   </g>\r\n   <g id=\"text_6\">\r\n    <g clip-path=\"url(#pfcb35a472f)\">\r\n     <!-- $Z$ -->\r\n     <g transform=\"translate(161.7935 228.951987)scale(0.13 -0.13)\">\r\n      <use transform=\"translate(0 0.09375)\" xlink:href=\"#DejaVuSans-Oblique-90\"/>\r\n     </g>\r\n    </g>\r\n   </g>\r\n   <g id=\"text_7\">\r\n    <g clip-path=\"url(#pfcb35a472f)\">\r\n     <!-- $X$ -->\r\n     <g transform=\"translate(434.4995 138.049987)scale(0.13 -0.13)\">\r\n      <use transform=\"translate(0 0.09375)\" xlink:href=\"#DejaVuSans-Oblique-88\"/>\r\n     </g>\r\n    </g>\r\n   </g>\r\n   <g id=\"text_8\">\r\n    <g clip-path=\"url(#pfcb35a472f)\">\r\n     <!-- $Z$ -->\r\n     <g transform=\"translate(434.4995 183.500987)scale(0.13 -0.13)\">\r\n      <use transform=\"translate(0 0.09375)\" xlink:href=\"#DejaVuSans-Oblique-90\"/>\r\n     </g>\r\n    </g>\r\n   </g>\r\n   <g id=\"text_9\">\r\n    <g clip-path=\"url(#pfcb35a472f)\">\r\n     <!-- $H$ -->\r\n     <g transform=\"translate(479.4955 183.500987)scale(0.13 -0.13)\">\r\n      <use transform=\"translate(0 0.09375)\" xlink:href=\"#DejaVuSans-Oblique-72\"/>\r\n     </g>\r\n    </g>\r\n   </g>\r\n   <g id=\"text_10\">\r\n    <g clip-path=\"url(#pfcb35a472f)\">\r\n     <!-- 0 -->\r\n     <defs>\r\n      <path d=\"M 31.78125 66.40625 \r\nQ 24.171875 66.40625 20.328125 58.90625 \r\nQ 16.5 51.421875 16.5 36.375 \r\nQ 16.5 21.390625 20.328125 13.890625 \r\nQ 24.171875 6.390625 31.78125 6.390625 \r\nQ 39.453125 6.390625 43.28125 13.890625 \r\nQ 47.125 21.390625 47.125 36.375 \r\nQ 47.125 51.421875 43.28125 58.90625 \r\nQ 39.453125 66.40625 31.78125 66.40625 \r\nz\r\nM 31.78125 74.21875 \r\nQ 44.046875 74.21875 50.515625 64.515625 \r\nQ 56.984375 54.828125 56.984375 36.375 \r\nQ 56.984375 17.96875 50.515625 8.265625 \r\nQ 44.046875 -1.421875 31.78125 -1.421875 \r\nQ 19.53125 -1.421875 13.0625 8.265625 \r\nQ 6.59375 17.96875 6.59375 36.375 \r\nQ 6.59375 54.828125 13.0625 64.515625 \r\nQ 19.53125 74.21875 31.78125 74.21875 \r\nz\r\n\" id=\"DejaVuSans-48\"/>\r\n     </defs>\r\n     <g transform=\"translate(632.15125 264.107825)scale(0.104 -0.104)\">\r\n      <use xlink:href=\"#DejaVuSans-48\"/>\r\n     </g>\r\n    </g>\r\n   </g>\r\n   <g id=\"text_11\">\r\n    <g clip-path=\"url(#pfcb35a472f)\">\r\n     <!-- 1 -->\r\n     <defs>\r\n      <path d=\"M 12.40625 8.296875 \r\nL 28.515625 8.296875 \r\nL 28.515625 63.921875 \r\nL 10.984375 60.40625 \r\nL 10.984375 69.390625 \r\nL 28.421875 72.90625 \r\nL 38.28125 72.90625 \r\nL 38.28125 8.296875 \r\nL 54.390625 8.296875 \r\nL 54.390625 0 \r\nL 12.40625 0 \r\nz\r\n\" id=\"DejaVuSans-49\"/>\r\n     </defs>\r\n     <g transform=\"translate(677.60225 264.107825)scale(0.104 -0.104)\">\r\n      <use xlink:href=\"#DejaVuSans-49\"/>\r\n     </g>\r\n    </g>\r\n   </g>\r\n   <g id=\"text_12\">\r\n    <g clip-path=\"url(#pfcb35a472f)\">\r\n     <!-- 2 -->\r\n     <defs>\r\n      <path d=\"M 19.1875 8.296875 \r\nL 53.609375 8.296875 \r\nL 53.609375 0 \r\nL 7.328125 0 \r\nL 7.328125 8.296875 \r\nQ 12.9375 14.109375 22.625 23.890625 \r\nQ 32.328125 33.6875 34.8125 36.53125 \r\nQ 39.546875 41.84375 41.421875 45.53125 \r\nQ 43.3125 49.21875 43.3125 52.78125 \r\nQ 43.3125 58.59375 39.234375 62.25 \r\nQ 35.15625 65.921875 28.609375 65.921875 \r\nQ 23.96875 65.921875 18.8125 64.3125 \r\nQ 13.671875 62.703125 7.8125 59.421875 \r\nL 7.8125 69.390625 \r\nQ 13.765625 71.78125 18.9375 73 \r\nQ 24.125 74.21875 28.421875 74.21875 \r\nQ 39.75 74.21875 46.484375 68.546875 \r\nQ 53.21875 62.890625 53.21875 53.421875 \r\nQ 53.21875 48.921875 51.53125 44.890625 \r\nQ 49.859375 40.875 45.40625 35.40625 \r\nQ 44.1875 33.984375 37.640625 27.21875 \r\nQ 31.109375 20.453125 19.1875 8.296875 \r\nz\r\n\" id=\"DejaVuSans-50\"/>\r\n     </defs>\r\n     <g transform=\"translate(723.05325 264.107825)scale(0.104 -0.104)\">\r\n      <use xlink:href=\"#DejaVuSans-50\"/>\r\n     </g>\r\n    </g>\r\n   </g>\r\n   <g id=\"text_13\">\r\n    <g clip-path=\"url(#pfcb35a472f)\">\r\n     <!-- 3 -->\r\n     <defs>\r\n      <path d=\"M 40.578125 39.3125 \r\nQ 47.65625 37.796875 51.625 33 \r\nQ 55.609375 28.21875 55.609375 21.1875 \r\nQ 55.609375 10.40625 48.1875 4.484375 \r\nQ 40.765625 -1.421875 27.09375 -1.421875 \r\nQ 22.515625 -1.421875 17.65625 -0.515625 \r\nQ 12.796875 0.390625 7.625 2.203125 \r\nL 7.625 11.71875 \r\nQ 11.71875 9.328125 16.59375 8.109375 \r\nQ 21.484375 6.890625 26.8125 6.890625 \r\nQ 36.078125 6.890625 40.9375 10.546875 \r\nQ 45.796875 14.203125 45.796875 21.1875 \r\nQ 45.796875 27.640625 41.28125 31.265625 \r\nQ 36.765625 34.90625 28.71875 34.90625 \r\nL 20.21875 34.90625 \r\nL 20.21875 43.015625 \r\nL 29.109375 43.015625 \r\nQ 36.375 43.015625 40.234375 45.921875 \r\nQ 44.09375 48.828125 44.09375 54.296875 \r\nQ 44.09375 59.90625 40.109375 62.90625 \r\nQ 36.140625 65.921875 28.71875 65.921875 \r\nQ 24.65625 65.921875 20.015625 65.03125 \r\nQ 15.375 64.15625 9.8125 62.3125 \r\nL 9.8125 71.09375 \r\nQ 15.4375 72.65625 20.34375 73.4375 \r\nQ 25.25 74.21875 29.59375 74.21875 \r\nQ 40.828125 74.21875 47.359375 69.109375 \r\nQ 53.90625 64.015625 53.90625 55.328125 \r\nQ 53.90625 49.265625 50.4375 45.09375 \r\nQ 46.96875 40.921875 40.578125 39.3125 \r\nz\r\n\" id=\"DejaVuSans-51\"/>\r\n     </defs>\r\n     <g transform=\"translate(768.50425 264.107825)scale(0.104 -0.104)\">\r\n      <use xlink:href=\"#DejaVuSans-51\"/>\r\n     </g>\r\n    </g>\r\n   </g>\r\n   <g id=\"text_14\">\r\n    <g clip-path=\"url(#pfcb35a472f)\">\r\n     <!-- 4 -->\r\n     <defs>\r\n      <path d=\"M 37.796875 64.3125 \r\nL 12.890625 25.390625 \r\nL 37.796875 25.390625 \r\nz\r\nM 35.203125 72.90625 \r\nL 47.609375 72.90625 \r\nL 47.609375 25.390625 \r\nL 58.015625 25.390625 \r\nL 58.015625 17.1875 \r\nL 47.609375 17.1875 \r\nL 47.609375 0 \r\nL 37.796875 0 \r\nL 37.796875 17.1875 \r\nL 4.890625 17.1875 \r\nL 4.890625 26.703125 \r\nz\r\n\" id=\"DejaVuSans-52\"/>\r\n     </defs>\r\n     <g transform=\"translate(813.95525 264.107825)scale(0.104 -0.104)\">\r\n      <use xlink:href=\"#DejaVuSans-52\"/>\r\n     </g>\r\n    </g>\r\n   </g>\r\n   <g id=\"text_15\">\r\n    <g clip-path=\"url(#pfcb35a472f)\">\r\n     <!-- $q_{0}$ -->\r\n     <defs>\r\n      <path d=\"M 41.703125 8.203125 \r\nQ 38.09375 3.46875 33.171875 1.015625 \r\nQ 28.265625 -1.421875 22.3125 -1.421875 \r\nQ 14.015625 -1.421875 9.296875 4.171875 \r\nQ 4.59375 9.765625 4.59375 19.578125 \r\nQ 4.59375 27.484375 7.5 34.859375 \r\nQ 10.40625 42.234375 15.828125 48.09375 \r\nQ 19.34375 51.90625 23.90625 53.953125 \r\nQ 28.46875 56 33.5 56 \r\nQ 39.546875 56 43.453125 53.609375 \r\nQ 47.359375 51.21875 49.125 46.390625 \r\nL 50.6875 54.59375 \r\nL 59.71875 54.59375 \r\nL 45.125 -20.609375 \r\nL 36.078125 -20.609375 \r\nz\r\nM 13.921875 20.90625 \r\nQ 13.921875 13.671875 16.9375 9.890625 \r\nQ 19.96875 6.109375 25.6875 6.109375 \r\nQ 34.1875 6.109375 40.1875 14.234375 \r\nQ 46.1875 22.359375 46.1875 33.984375 \r\nQ 46.1875 41.015625 43.078125 44.75 \r\nQ 39.984375 48.484375 34.1875 48.484375 \r\nQ 29.9375 48.484375 26.3125 46.5 \r\nQ 22.703125 44.53125 20.015625 40.71875 \r\nQ 17.1875 36.71875 15.546875 31.34375 \r\nQ 13.921875 25.984375 13.921875 20.90625 \r\nz\r\n\" id=\"DejaVuSans-Oblique-113\"/>\r\n     </defs>\r\n     <g transform=\"translate(57.339 48.011777)scale(0.1625 -0.1625)\">\r\n      <use xlink:href=\"#DejaVuSans-Oblique-113\"/>\r\n      <use transform=\"translate(63.476562 -16.40625)scale(0.7)\" xlink:href=\"#DejaVuSans-48\"/>\r\n     </g>\r\n    </g>\r\n   </g>\r\n   <g id=\"text_16\">\r\n    <g clip-path=\"url(#pfcb35a472f)\">\r\n     <!-- $q_{1}$ -->\r\n     <g transform=\"translate(57.339 93.462777)scale(0.1625 -0.1625)\">\r\n      <use xlink:href=\"#DejaVuSans-Oblique-113\"/>\r\n      <use transform=\"translate(63.476562 -16.40625)scale(0.7)\" xlink:href=\"#DejaVuSans-49\"/>\r\n     </g>\r\n    </g>\r\n   </g>\r\n   <g id=\"text_17\">\r\n    <g clip-path=\"url(#pfcb35a472f)\">\r\n     <!-- $q_{2}$ -->\r\n     <g transform=\"translate(57.339 138.913777)scale(0.1625 -0.1625)\">\r\n      <use xlink:href=\"#DejaVuSans-Oblique-113\"/>\r\n      <use transform=\"translate(63.476562 -16.40625)scale(0.7)\" xlink:href=\"#DejaVuSans-50\"/>\r\n     </g>\r\n    </g>\r\n   </g>\r\n   <g id=\"text_18\">\r\n    <g clip-path=\"url(#pfcb35a472f)\">\r\n     <!-- $q_{3}$ -->\r\n     <g transform=\"translate(57.339 184.364777)scale(0.1625 -0.1625)\">\r\n      <use xlink:href=\"#DejaVuSans-Oblique-113\"/>\r\n      <use transform=\"translate(63.476562 -16.40625)scale(0.7)\" xlink:href=\"#DejaVuSans-51\"/>\r\n     </g>\r\n    </g>\r\n   </g>\r\n   <g id=\"text_19\">\r\n    <g clip-path=\"url(#pfcb35a472f)\">\r\n     <!-- $q_{4}$ -->\r\n     <g transform=\"translate(57.339 229.815777)scale(0.1625 -0.1625)\">\r\n      <use xlink:href=\"#DejaVuSans-Oblique-113\"/>\r\n      <use transform=\"translate(63.476562 -16.40625)scale(0.7)\" xlink:href=\"#DejaVuSans-52\"/>\r\n     </g>\r\n    </g>\r\n   </g>\r\n   <g id=\"text_20\">\r\n    <g clip-path=\"url(#pfcb35a472f)\">\r\n     <!-- 5 -->\r\n     <defs>\r\n      <path d=\"M 10.796875 72.90625 \r\nL 49.515625 72.90625 \r\nL 49.515625 64.59375 \r\nL 19.828125 64.59375 \r\nL 19.828125 46.734375 \r\nQ 21.96875 47.46875 24.109375 47.828125 \r\nQ 26.265625 48.1875 28.421875 48.1875 \r\nQ 40.625 48.1875 47.75 41.5 \r\nQ 54.890625 34.8125 54.890625 23.390625 \r\nQ 54.890625 11.625 47.5625 5.09375 \r\nQ 40.234375 -1.421875 26.90625 -1.421875 \r\nQ 22.3125 -1.421875 17.546875 -0.640625 \r\nQ 12.796875 0.140625 7.71875 1.703125 \r\nL 7.71875 11.625 \r\nQ 12.109375 9.234375 16.796875 8.0625 \r\nQ 21.484375 6.890625 26.703125 6.890625 \r\nQ 35.15625 6.890625 40.078125 11.328125 \r\nQ 45.015625 15.765625 45.015625 23.390625 \r\nQ 45.015625 31 40.078125 35.4375 \r\nQ 35.15625 39.890625 26.703125 39.890625 \r\nQ 22.75 39.890625 18.8125 39.015625 \r\nQ 14.890625 38.140625 10.796875 36.28125 \r\nz\r\n\" id=\"DejaVuSans-53\"/>\r\n     </defs>\r\n     <g transform=\"translate(120.8275 264.107825)scale(0.104 -0.104)\">\r\n      <use xlink:href=\"#DejaVuSans-53\"/>\r\n     </g>\r\n    </g>\r\n   </g>\r\n   <g id=\"text_21\">\r\n    <g clip-path=\"url(#pfcb35a472f)\">\r\n     <!-- $c$ -->\r\n     <defs>\r\n      <path d=\"M 53.609375 52.59375 \r\nL 51.8125 43.703125 \r\nQ 48.578125 46.046875 44.9375 47.21875 \r\nQ 41.3125 48.390625 37.40625 48.390625 \r\nQ 33.109375 48.390625 29.21875 46.875 \r\nQ 25.34375 45.359375 22.703125 42.578125 \r\nQ 18.5 38.328125 16.203125 32.609375 \r\nQ 13.921875 26.90625 13.921875 20.796875 \r\nQ 13.921875 13.421875 17.609375 9.8125 \r\nQ 21.296875 6.203125 28.8125 6.203125 \r\nQ 32.515625 6.203125 36.6875 7.328125 \r\nQ 40.875 8.453125 45.40625 10.6875 \r\nL 43.703125 1.8125 \r\nQ 39.796875 0.203125 35.671875 -0.609375 \r\nQ 31.546875 -1.421875 27.203125 -1.421875 \r\nQ 16.3125 -1.421875 10.453125 4.015625 \r\nQ 4.59375 9.46875 4.59375 19.578125 \r\nQ 4.59375 28.078125 7.640625 35.234375 \r\nQ 10.6875 42.390625 16.703125 48.09375 \r\nQ 20.796875 52 26.3125 54 \r\nQ 31.84375 56 38.375 56 \r\nQ 42.1875 56 45.9375 55.140625 \r\nQ 49.703125 54.296875 53.609375 52.59375 \r\nz\r\n\" id=\"DejaVuSans-Oblique-99\"/>\r\n     </defs>\r\n     <g transform=\"translate(64.6515 276.196581)scale(0.195 -0.195)\">\r\n      <use xlink:href=\"#DejaVuSans-Oblique-99\"/>\r\n     </g>\r\n    </g>\r\n   </g>\r\n  </g>\r\n </g>\r\n <defs>\r\n  <clipPath id=\"pfcb35a472f\">\r\n   <rect height=\"290.8864\" width=\"845.3886\" x=\"7.2\" y=\"7.2\"/>\r\n  </clipPath>\r\n </defs>\r\n</svg>\r\n",
      "image/png": "[encoded data removed]"
     },
     "metadata": {},
     "execution_count": 4
    }
   ],
   "source": [
    "def get_maxs_poker_circuit(usebarrier=False, measure=True, applynotpos=-1):\n",
    "    circ = \"OPENQASM 2.0;\\ninclude \\\"qelib1.inc\\\"; \\\n",
    "    qreg q[5];\\\n",
    "    creg c[5];\"\n",
    "    if applynotpos>-1 and applynotpos<5:\n",
    "        circ = circ + \"x q[\"+str(applynotpos)+\"];\"\n",
    "    circ = circ + \"x q[0];\\\n",
    "    x q[1];\\\n",
    "    h q[3];\\\n",
    "    z q[3];\\\n",
    "    h q[4];\\\n",
    "    z q[4];\\\n",
    "    cx q[0],q[2];\\\n",
    "    cx q[1],q[2];\\\n",
    "    cx q[4],q[1];\\\n",
    "    cx q[0],q[4];\\\n",
    "    cx q[2],q[4];\"\n",
    "    if usebarrier:\n",
    "        circ = circ + \"barrier q[0],q[1],q[2],q[3],q[4]; \"\n",
    "    circ = circ + \"x q[2];\\\n",
    "    z q[3];\\\n",
    "    h q[3];\\\n",
    "    cx q[2],q[3];\"\n",
    "    if usebarrier:\n",
    "        circ = circ + \"barrier q[0],q[1],q[2],q[3],q[4]; \"\n",
    "    if measure:\n",
    "        circ = circ + \"measure q[0] -> c[0]; \\\n",
    "        measure q[1] -> c[1]; \\\n",
    "        measure q[2] -> c[2]; \\\n",
    "        measure q[3] -> c[3]; \\\n",
    "        measure q[4] -> c[4]; \"\n",
    "    qc = QuantumCircuit.from_qasm_str(circ)\n",
    "    return qc\n",
    "\n",
    "circ=get_maxs_poker_circuit(True)\n",
    "get_maxs_poker_circuit(True).draw(output='mpl')"
   ]
  },
  {
   "cell_type": "code",
   "execution_count": 5,
   "metadata": {},
   "outputs": [
    {
     "output_type": "stream",
     "name": "stdout",
     "text": "OPENQASM 2.0;\ninclude \"qelib1.inc\";\nqreg q[5];\ncreg c[5];\nx q[0];\nx q[1];\ncx q[0],q[2];\ncx q[1],q[2];\nh q[3];\nz q[3];\nh q[4];\nz q[4];\ncx q[4],q[1];\ncx q[0],q[4];\ncx q[2],q[4];\nbarrier q[0],q[1],q[2],q[3],q[4];\nx q[2];\nz q[3];\nh q[3];\ncx q[2],q[3];\nbarrier q[0],q[1],q[2],q[3],q[4];\nmeasure q[0] -> c[0];\nmeasure q[1] -> c[1];\nmeasure q[2] -> c[2];\nmeasure q[3] -> c[3];\nmeasure q[4] -> c[4];\n\n"
    }
   ],
   "source": [
    "print(circ.qasm())"
   ]
  },
  {
   "cell_type": "code",
   "execution_count": 6,
   "metadata": {},
   "outputs": [],
   "source": [
    "jobs_dict={}\n",
    "E_dict={}\n",
    "E_av_dict={}\n",
    "mean_depth_dict={}\n",
    "mean_depth_transpiled_dict={}\n",
    "max_depth_dict={}\n",
    "max_depth_transpiled_dict={}\n",
    "backends_dict={}\n",
    "noisemodels_dict={}\n",
    "coupling_maps_dict={}\n",
    "basis_gates_dict={}\n",
    "cx_error_maps_dict={}"
   ]
  },
  {
   "cell_type": "code",
   "execution_count": 7,
   "metadata": {},
   "outputs": [],
   "source": [
    "import pickle\n",
    "import os"
   ]
  },
  {
   "cell_type": "code",
   "execution_count": 8,
   "metadata": {},
   "outputs": [],
   "source": [
    "if os.path.isfile('E_Pokerdata'):\n",
    "    infile = open('data/E_Pokerdata','rb')\n",
    "    E_dict = pickle.load(infile)\n",
    "    infile.close()\n",
    "    \n",
    "if os.path.isfile('E_av_Pokerdata'):\n",
    "    infile = open('data/E_av_Pokerdata','rb')\n",
    "    E_av_dict = pickle.load(infile)\n",
    "    infile.close()\n",
    "\n",
    "if os.path.isfile('data/mean_depth_Pokerdata'):\n",
    "    infile = open('data/mean_depth_Pokerdata','rb')\n",
    "    mean_depth_dict = pickle.load(infile)\n",
    "    infile.close()\n",
    "    \n",
    "if os.path.isfile('data/mean_depth_transpiled_Pokerdata'):\n",
    "    infile = open('data/mean_depth_transpiled_Pokerdata','rb')\n",
    "    mean_depth_transpiled_dict = pickle.load(infile)\n",
    "    infile.close()\n",
    "\n",
    "if os.path.isfile('data/max_depth_Pokerdata'):\n",
    "    infile = open('data/max_depth_Pokerdata','rb')\n",
    "    max_depth_dict = pickle.load(infile)\n",
    "    infile.close()\n",
    "\n",
    "if os.path.isfile('data/max_depth_transpiled_Pokerdata'):\n",
    "    infile = open('data/max_depth_transpiled_Pokerdata','rb')\n",
    "    max_depth_transpiled_dict = pickle.load(infile)\n",
    "    infile.close()"
   ]
  },
  {
   "cell_type": "markdown",
   "metadata": {},
   "source": [
    "Let us first create a dictionary with backends we are going to use"
   ],
   "execution_count": null,
   "outputs": []
  },
  {
   "cell_type": "code",
   "execution_count": 9,
   "metadata": {},
   "outputs": [
    {
     "output_type": "execute_result",
     "data": {
      "text/plain": "<AccountProvider for IBMQ(hub='ibm-q', group='open', project='main')>"
     },
     "metadata": {},
     "execution_count": 9
    }
   ],
   "source": [
    "backendname_sim = 'qasm_simulator'\n",
    "backends_dict[backendname_sim] = Aer.get_backend(backendname_sim)\n",
    "\n",
    "#load IBMQ account\n",
    "#IBMQ.save_account('yourToken')\n",
    "IBMQ.load_account()\n",
    "provider = IBMQ.get_provider(hub='ibm-q')\n",
    "\n",
    "backendname_x2 = 'ibmqx2'\n",
    "backendname_ourense = 'ibmq_ourense'\n",
    "\n",
    "for backendname in [backendname_x2, backendname_ourense]:\n",
    "    backends_dict[backendname] = provider.get_backend(backendname)"
   ]
  },
  {
   "cell_type": "markdown",
   "metadata": {},
   "source": [
    "Next, let us create some noise models for the ibm quantum devices"
   ],
   "execution_count": null,
   "outputs": []
  },
  {
   "cell_type": "code",
   "execution_count": 10,
   "metadata": {},
   "outputs": [
    {
     "output_type": "stream",
     "name": "stdout",
     "text": "ibmqx2 :  NoiseModel:\n  Basis gates: ['cx', 'id', 'u2', 'u3']\n  Instructions with noise: ['cx', 'measure', 'u2', 'u3', 'id']\n  Qubits with noise: [0, 1, 2, 3, 4]\n  Specific qubit errors: [('id', [0]), ('id', [1]), ('id', [2]), ('id', [3]), ('id', [4]), ('u2', [0]), ('u2', [1]), ('u2', [2]), ('u2', [3]), ('u2', [4]), ('u3', [0]), ('u3', [1]), ('u3', [2]), ('u3', [3]), ('u3', [4]), ('cx', [0, 1]), ('cx', [0, 2]), ('cx', [1, 0]), ('cx', [1, 2]), ('cx', [2, 0]), ('cx', [2, 1]), ('cx', [2, 3]), ('cx', [2, 4]), ('cx', [3, 2]), ('cx', [3, 4]), ('cx', [4, 2]), ('cx', [4, 3]), ('measure', [0]), ('measure', [1]), ('measure', [2]), ('measure', [3]), ('measure', [4])]\nibmq_ourense :  NoiseModel:\n  Basis gates: ['cx', 'id', 'u2', 'u3']\n  Instructions with noise: ['cx', 'measure', 'u2', 'u3', 'id']\n  Qubits with noise: [0, 1, 2, 3, 4]\n  Specific qubit errors: [('id', [0]), ('id', [1]), ('id', [2]), ('id', [3]), ('id', [4]), ('u2', [0]), ('u2', [1]), ('u2', [2]), ('u2', [3]), ('u2', [4]), ('u3', [0]), ('u3', [1]), ('u3', [2]), ('u3', [3]), ('u3', [4]), ('cx', [0, 1]), ('cx', [1, 0]), ('cx', [1, 2]), ('cx', [1, 3]), ('cx', [2, 1]), ('cx', [3, 1]), ('cx', [3, 4]), ('cx', [4, 3]), ('measure', [0]), ('measure', [1]), ('measure', [2]), ('measure', [3]), ('measure', [4])]\n"
    }
   ],
   "source": [
    "from qiskit.providers.aer.noise import NoiseModel\n",
    "from qiskit.providers.aer.noise.device import basic_device_noise_model\n",
    "\n",
    "for backendname in [backendname_x2, backendname_ourense]:\n",
    "    backend = backends_dict[backendname]\n",
    "\n",
    "    noisemodels_dict[backendname] = basic_device_noise_model(backend.properties())\n",
    "    cx_error_maps_dict[backendname] = get_cx_error_map(backend)\n",
    "    coupling_maps_dict[backendname] = backend.configuration().coupling_map\n",
    "    basis_gates_dict[backendname] = noisemodels_dict[backendname].basis_gates\n",
    "    print(backendname, ': ', noisemodels_dict[backendname])\n",
    "\n",
    "noisemodels_dict['None'] = None"
   ]
  },
  {
   "cell_type": "markdown",
   "metadata": {},
   "source": [
    "Next, we implement how the expectation value of our observable is defined, and how to extract it from the executed jobs"
   ],
   "execution_count": null,
   "outputs": []
  },
  {
   "cell_type": "code",
   "execution_count": 11,
   "metadata": {},
   "outputs": [],
   "source": [
    "numones=np.zeros((2**5,1))\n",
    "for i in range(2**5):\n",
    "    numones[i]=bin(i).count(\"1\")"
   ]
  },
  {
   "cell_type": "code",
   "execution_count": 12,
   "metadata": {},
   "outputs": [],
   "source": [
    "def expectationValue(results):\n",
    "    #num_qubits = results[0].header.n_qubits\n",
    "    E=np.zeros((len(results),1))\n",
    "    for item in range(0,len(results)):\n",
    "        shots = results[item].shots\n",
    "        counts = results[item].data.counts\n",
    "        for key in list(counts.__dict__.keys()):\n",
    "            c=getattr(counts, key)#number of counts\n",
    "            E[item] += numones[int(key,0)]*c/shots\n",
    "    return E"
   ]
  },
  {
   "cell_type": "code",
   "execution_count": 13,
   "metadata": {},
   "outputs": [],
   "source": [
    "def getE(jobstring, numparts):\n",
    "    for p in range(1, numparts+1):\n",
    "        filename = jobstring+'_part_'+str(p)\n",
    "        results = read_results(filename)\n",
    "        if results == None:\n",
    "            return None, None, False\n",
    "        if p==1:\n",
    "            E = expectationValue(results)\n",
    "        else:\n",
    "            E = np.append(E, expectationValue(results))\n",
    "\n",
    "    E_conv = np.zeros_like(E)\n",
    "    for j in range(1,num_repetitions+1):\n",
    "        E_conv[j-1] = sum(E[0:j])/j\n",
    "    return E, E_conv, True"
   ]
  },
  {
   "cell_type": "markdown",
   "metadata": {},
   "source": [
    "Let us start by simulating the circuit on an ideal simulator without noise\n",
    "\n",
    "in all simulations we will use the same number repetitions, where each repetition consists of shots\n",
    "\n",
    "on real ibm devices we are only allowed $2^6$ circuits in parallel, therefore we need to do $2^4$ parts in order to get $2^{10}$ repetitions in total"
   ],
   "execution_count": null,
   "outputs": []
  },
  {
   "cell_type": "code",
   "execution_count": 14,
   "metadata": {},
   "outputs": [],
   "source": [
    "num_circuits=2**6\n",
    "num_parts=2**4\n",
    "num_repetitions = num_circuits*num_parts\n",
    "shots = 1024*2*2*2"
   ]
  },
  {
   "cell_type": "markdown",
   "metadata": {},
   "source": [
    "Read the expectation values from file, or execute the circuits on a simulator"
   ],
   "execution_count": null,
   "outputs": []
  },
  {
   "cell_type": "code",
   "execution_count": 18,
   "metadata": {
    "tags": [
     "outputPrepend",
     "outputPrepend",
     "outputPrepend",
     "outputPrepend",
     "outputPrepend",
     "outputPrepend",
     "outputPrepend",
     "outputPrepend",
     "outputPrepend",
     "outputPrepend",
     "outputPrepend",
     "outputPrepend",
     "outputPrepend",
     "outputPrepend",
     "outputPrepend",
     "outputPrepend",
     "outputPrepend",
     "outputPrepend",
     "outputPrepend",
     "outputPrepend",
     "outputPrepend",
     "outputPrepend",
     "outputPrepend",
     "outputPrepend",
     "outputPrepend",
     "outputPrepend",
     "outputPrepend",
     "outputPrepend",
     "outputPrepend",
     "outputPrepend",
     "outputPrepend",
     "outputPrepend",
     "outputPrepend",
     "outputPrepend",
     "outputPrepend",
     "outputPrepend",
     "outputPrepend",
     "outputPrepend",
     "outputPrepend",
     "outputPrepend",
     "outputPrepend",
     "outputPrepend",
     "outputPrepend",
     "outputPrepend",
     "outputPrepend",
     "outputPrepend",
     "outputPrepend",
     "outputPrepend",
     "outputPrepend",
     "outputPrepend",
     "outputPrepend",
     "outputPrepend",
     "outputPrepend",
     "outputPrepend",
     "outputPrepend",
     "outputPrepend",
     "outputPrepend",
     "outputPrepend",
     "outputPrepend",
     "outputPrepend",
     "outputPrepend",
     "outputPrepend",
     "outputPrepend",
     "outputPrepend",
     "outputPrepend",
     "outputPrepend",
     "outputPrepend",
     "outputPrepend",
     "outputPrepend",
     "outputPrepend",
     "outputPrepend",
     "outputPrepend",
     "outputPrepend",
     "outputPrepend",
     "outputPrepend",
     "outputPrepend",
     "outputPrepend",
     "outputPrepend",
     "outputPrepend",
     "outputPrepend",
     "outputPrepend",
     "outputPrepend",
     "outputPrepend",
     "outputPrepend",
     "outputPrepend",
     "outputPrepend",
     "outputPrepend",
     "outputPrepend",
     "outputPrepend",
     "outputPrepend",
     "outputPrepend",
     "outputPrepend",
     "outputPrepend",
     "outputPrepend",
     "outputPrepend",
     "outputPrepend",
     "outputPrepend",
     "outputPrepend",
     "outputPrepend",
     "outputPrepend",
     "outputPrepend",
     "outputPrepend",
     "outputPrepend",
     "outputPrepend",
     "outputPrepend",
     "outputPrepend",
     "outputPrepend",
     "outputPrepend",
     "outputPrepend",
     "outputPrepend",
     "outputPrepend",
     "outputPrepend",
     "outputPrepend",
     "outputPrepend",
     "outputPrepend",
     "outputPrepend",
     "outputPrepend",
     "outputPrepend",
     "outputPrepend",
     "outputPrepend",
     "outputPrepend",
     "outputPrepend",
     "outputPrepend",
     "outputPrepend",
     "outputPrepend",
     "outputPrepend",
     "outputPrepend",
     "outputPrepend",
     "outputPrepend",
     "outputPrepend",
     "outputPrepend",
     "outputPrepend",
     "outputPrepend",
     "outputPrepend",
     "outputPrepend",
     "outputPrepend",
     "outputPrepend",
     "outputPrepend",
     "outputPrepend",
     "outputPrepend",
     "outputPrepend",
     "outputPrepend",
     "outputPrepend",
     "outputPrepend",
     "outputPrepend",
     "outputPrepend",
     "outputPrepend",
     "outputPrepend",
     "outputPrepend",
     "outputPrepend",
     "outputPrepend",
     "outputPrepend",
     "outputPrepend",
     "outputPrepend"
    ]
   },
   "outputs": [
    {
     "output_type": "error",
     "ename": "SyntaxError",
     "evalue": "invalid syntax (<ipython-input-18-3a4b5c130943>, line 32)",
     "traceback": [
      "\u001b[1;36m  File \u001b[1;32m\"<ipython-input-18-3a4b5c130943>\"\u001b[1;36m, line \u001b[1;32m32\u001b[0m\n\u001b[1;33m    +'_numcircuits_'+str(, 'times3nb', 'times5'num_circuits)\u001b[0m\n\u001b[1;37m                         ^\u001b[0m\n\u001b[1;31mSyntaxError\u001b[0m\u001b[1;31m:\u001b[0m invalid syntax\n"
     ]
    }
   ],
   "source": [
    "backendname = backendname_sim\n",
    "circuit = get_maxs_poker_circuit()\n",
    "noisemodelname = backendname_x2\n",
    "\n",
    "\n",
    "print('Original:')\n",
    "circuit.draw(output='mpl')\n",
    "print('Anti:')\n",
    "circuit2 = make_anti_circuit(circuit)\n",
    "circuit2.draw(output='mpl')\n",
    "print('Flip-at-start:')\n",
    "circuit3 = make_flip_at_start(circuit)\n",
    "circuit3.draw(output='mpl')\n",
    "print('Flip-at-end:')\n",
    "circuit4 = make_flip_at_end(circuit)\n",
    "circuit4.draw(output='mpl')\n",
    "print('times3:')\n",
    "circuit5 = make_times3(circuit)\n",
    "circuit5.draw(output='mpl')\n",
    "print('times3 (without barriers):')\n",
    "circuit6 = make_times3withoutbarriers(circuit)\n",
    "circuit6.draw(output='mpl')\n",
    "print('times5:')\n",
    "circuit7 = make_times5(circuit)\n",
    "circuit7.draw(output='mpl')\n",
    "\n",
    "#print(noisemodels_dict[noisemodelname])\n",
    "\n",
    "for mode in ('times3nb', 'times5', 'orig', 'anti', 'flipped-at-start', 'flipped-at-end', 'times3'):\n",
    "    basename='backend_'+backendname+'_shots_'+str(shots) \\\n",
    "    +'_noisemodel_'+noisemodelname+'_errorlevel_'+mode \\\n",
    "        +'_numcircuits_'+str(num_circuits)\n",
    "    ### get Expectation value if results exist as files\n",
    "    #E_tmp, E_av_tmp, success = getE(basename, num_parts)\n",
    "    success = False\n",
    "    if success:\n",
    "        E_dict[basename] = E_tmp\n",
    "        E_av_dict[basename] = E_av_tmp\n",
    "        #print('success')\n",
    "    else:\n",
    "        mean_depth=0\n",
    "        max_depth=0\n",
    "        for p in range(1, num_parts+1):\n",
    "            circuits_r=[]\n",
    "            for i in range(1, num_circuits+1):\n",
    "                if mode == 'anti':\n",
    "                    circ_tmp = circuit2\n",
    "                elif mode == 'flipped-at-start':\n",
    "                    circ_tmp = circuit3\n",
    "                elif mode == 'flipped-at-end':\n",
    "                    circ_tmp = circuit4\n",
    "                elif mode == 'times3':\n",
    "                    circ_tmp = circuit5\n",
    "                elif mode == 'times3nb':\n",
    "                    circ_tmp = circuit6\n",
    "                elif mode == 'times5':\n",
    "                    circ_tmp = circuit7\n",
    "                else:\n",
    "                    circ_tmp = circuit\n",
    "                circuits_r.append(circ_tmp)\n",
    "                depth=circuits_r[-1].depth()\n",
    "                mean_depth += depth\n",
    "                max_depth = max(max_depth,depth)\n",
    "                \n",
    "            job_string = basename +'_part_'+str(p)\n",
    "            print('job=',job_string)\n",
    "            jobs_dict[job_string] = execute(circuits_r, backends_dict[backendname], shots=shots, noise_model=noisemodels_dict[noisemodelname],\\\n",
    "                                                basis_gates=basis_gates_dict[noisemodelname])\n",
    "\n",
    "            #start_or_retrieve_job(job_string,\\\n",
    "            #backends_dict[backendname],\\\n",
    "            #circuits_r,\\\n",
    "            #options={'shots' : shots})\n",
    "\n",
    "            mean_depth_dict[basename] = mean_depth/num_repetitions\n",
    "            max_depth_dict[basename] = max_depth\n",
    "\n",
    "print('done.')"
   ]
  },
  {
   "cell_type": "markdown",
   "metadata": {},
   "source": [
    "write the results to file, if not already done and calculate expectation values"
   ],
   "execution_count": null,
   "outputs": []
  },
  {
   "cell_type": "code",
   "execution_count": 16,
   "metadata": {},
   "outputs": [
    {
     "output_type": "error",
     "ename": "KeyError",
     "evalue": "'backend_qasm_simulator_shots_8192_noisemodel_ibmqx2_errorlevel_orig_numcircuits_64_part_1'",
     "traceback": [
      "\u001b[1;31m---------------------------------------------------------------------------\u001b[0m",
      "\u001b[1;31mKeyError\u001b[0m                                  Traceback (most recent call last)",
      "\u001b[1;32m<ipython-input-16-3f84dca541a4>\u001b[0m in \u001b[0;36m<module>\u001b[1;34m\u001b[0m\n\u001b[0;32m     11\u001b[0m         \u001b[1;32mfor\u001b[0m \u001b[0mp\u001b[0m \u001b[1;32min\u001b[0m \u001b[0mrange\u001b[0m\u001b[1;33m(\u001b[0m\u001b[1;36m1\u001b[0m\u001b[1;33m,\u001b[0m \u001b[0mnum_parts\u001b[0m\u001b[1;33m+\u001b[0m\u001b[1;36m1\u001b[0m\u001b[1;33m)\u001b[0m\u001b[1;33m:\u001b[0m\u001b[1;33m\u001b[0m\u001b[0m\n\u001b[0;32m     12\u001b[0m             \u001b[0mjob_string\u001b[0m \u001b[1;33m=\u001b[0m \u001b[0mbasename\u001b[0m \u001b[1;33m+\u001b[0m\u001b[1;34m'_part_'\u001b[0m\u001b[1;33m+\u001b[0m\u001b[0mstr\u001b[0m\u001b[1;33m(\u001b[0m\u001b[0mp\u001b[0m\u001b[1;33m)\u001b[0m\u001b[1;33m\u001b[0m\u001b[0m\n\u001b[1;32m---> 13\u001b[1;33m             \u001b[0msuccess\u001b[0m \u001b[1;33m=\u001b[0m \u001b[0mwrite_results\u001b[0m\u001b[1;33m(\u001b[0m\u001b[0mjob_string\u001b[0m\u001b[1;33m,\u001b[0m \u001b[0mjobs_dict\u001b[0m\u001b[1;33m[\u001b[0m\u001b[0mjob_string\u001b[0m\u001b[1;33m]\u001b[0m\u001b[1;33m)\u001b[0m\u001b[1;33m\u001b[0m\u001b[0m\n\u001b[0m\u001b[0;32m     14\u001b[0m \u001b[1;33m\u001b[0m\u001b[0m\n\u001b[0;32m     15\u001b[0m         \u001b[0mE_dict\u001b[0m\u001b[1;33m[\u001b[0m\u001b[0mbasename\u001b[0m\u001b[1;33m]\u001b[0m\u001b[1;33m,\u001b[0m \u001b[0mE_av_dict\u001b[0m\u001b[1;33m[\u001b[0m\u001b[0mbasename\u001b[0m\u001b[1;33m]\u001b[0m\u001b[1;33m,\u001b[0m \u001b[0msuccess\u001b[0m \u001b[1;33m=\u001b[0m  \u001b[0mgetE\u001b[0m\u001b[1;33m(\u001b[0m\u001b[0mbasename\u001b[0m\u001b[1;33m,\u001b[0m \u001b[0mnum_parts\u001b[0m\u001b[1;33m)\u001b[0m\u001b[1;33m\u001b[0m\u001b[0m\n",
      "\u001b[1;31mKeyError\u001b[0m: 'backend_qasm_simulator_shots_8192_noisemodel_ibmqx2_errorlevel_orig_numcircuits_64_part_1'"
     ]
    }
   ],
   "source": [
    "backendname = backendname_sim\n",
    "circuit = get_maxs_poker_circuit()\n",
    "noisemodelname = backendname_x2\n",
    "\n",
    "\n",
    "for mode in ('orig', 'anti', 'flipped-at-start', 'flipped-at-end', 'times3', 'times3nb', 'times5'):\n",
    "    basename='backend_'+backendname+'_shots_'+str(shots) \\\n",
    "        +'_noisemodel_'+noisemodelname+'_errorlevel_'+mode \\\n",
    "        +'_numcircuits_'+str(num_circuits)\n",
    "    if True: #not(basename in E_dict):\n",
    "        for p in range(1, num_parts+1):\n",
    "            job_string = basename +'_part_'+str(p)\n",
    "            success = write_results(job_string, jobs_dict[job_string])\n",
    "\n",
    "        E_dict[basename], E_av_dict[basename], success =  getE(basename, num_parts)"
   ]
  },
  {
   "cell_type": "code",
   "execution_count": 17,
   "metadata": {},
   "outputs": [
    {
     "output_type": "execute_result",
     "data": {
      "text/plain": "<Figure size 800x480 with 0 Axes>"
     },
     "metadata": {},
     "execution_count": 17
    },
    {
     "output_type": "error",
     "ename": "KeyError",
     "evalue": "'backend_qasm_simulator_shots_8192_noisemodel_ibmqx2_errorlevel_orig_numcircuits_64'",
     "traceback": [
      "\u001b[1;31m---------------------------------------------------------------------------\u001b[0m",
      "\u001b[1;31mKeyError\u001b[0m                                  Traceback (most recent call last)",
      "\u001b[1;32m<ipython-input-17-fb6a1b7b1016>\u001b[0m in \u001b[0;36m<module>\u001b[1;34m\u001b[0m\n\u001b[0;32m     10\u001b[0m     \u001b[1;33m+\u001b[0m\u001b[1;34m'_numcircuits_'\u001b[0m\u001b[1;33m+\u001b[0m\u001b[0mstr\u001b[0m\u001b[1;33m(\u001b[0m\u001b[0mnum_circuits\u001b[0m\u001b[1;33m)\u001b[0m\u001b[1;33m\u001b[0m\u001b[0m\n\u001b[0;32m     11\u001b[0m \u001b[1;33m\u001b[0m\u001b[0m\n\u001b[1;32m---> 12\u001b[1;33m \u001b[0mpl\u001b[0m\u001b[1;33m.\u001b[0m\u001b[0mplot\u001b[0m\u001b[1;33m(\u001b[0m\u001b[0mE_av_dict\u001b[0m\u001b[1;33m[\u001b[0m\u001b[0mbasename\u001b[0m\u001b[1;33m]\u001b[0m\u001b[1;33m,\u001b[0m \u001b[0mcolor\u001b[0m\u001b[1;33m=\u001b[0m\u001b[1;34m'blue'\u001b[0m\u001b[1;33m)\u001b[0m\u001b[1;33m\u001b[0m\u001b[0m\n\u001b[0m\u001b[0;32m     13\u001b[0m \u001b[1;33m\u001b[0m\u001b[0m\n\u001b[0;32m     14\u001b[0m \u001b[1;33m\u001b[0m\u001b[0m\n",
      "\u001b[1;31mKeyError\u001b[0m: 'backend_qasm_simulator_shots_8192_noisemodel_ibmqx2_errorlevel_orig_numcircuits_64'"
     ]
    }
   ],
   "source": [
    "font = {'size' : 26}\n",
    "pl.matplotlib.rc('font', **font)\n",
    "pl.figure(1,figsize=(10, 6), dpi= 80, facecolor='w', edgecolor='k')\n",
    "#backendname = backendname_sim\n",
    "\n",
    "\n",
    "mode = 'orig'\n",
    "basename='backend_'+backendname+'_shots_'+str(shots) \\\n",
    "    +'_noisemodel_'+noisemodelname+'_errorlevel_'+ mode \\\n",
    "    +'_numcircuits_'+str(num_circuits)\n",
    "\n",
    "pl.plot(E_av_dict[basename], color='blue')\n",
    "\n",
    "\n",
    "mode = 'anti'\n",
    "basename='backend_'+backendname+'_shots_'+str(shots) \\\n",
    "    +'_noisemodel_'+noisemodelname+'_errorlevel_'+ mode \\\n",
    "    +'_numcircuits_'+str(num_circuits)\n",
    "\n",
    "pl.plot(E_av_dict[basename], color='red')\n",
    "\n",
    "\n",
    "mode = 'flipped-at-start'\n",
    "basename='backend_'+backendname+'_shots_'+str(shots) \\\n",
    "    +'_noisemodel_'+noisemodelname+'_errorlevel_'+ mode \\\n",
    "    +'_numcircuits_'+str(num_circuits)\n",
    "\n",
    "pl.plot(5 - E_av_dict[basename], color='green')\n",
    "\n",
    "\n",
    "mode = 'flipped-at-end'\n",
    "basename='backend_'+backendname+'_shots_'+str(shots) \\\n",
    "    +'_noisemodel_'+noisemodelname+'_errorlevel_'+ mode \\\n",
    "    +'_numcircuits_'+str(num_circuits)\n",
    "\n",
    "pl.plot(5 - E_av_dict[basename], color ='yellow')\n",
    "\n",
    "mode = 'times3'\n",
    "basename='backend_'+backendname+'_shots_'+str(shots) \\\n",
    "    +'_noisemodel_'+noisemodelname+'_errorlevel_'+ mode \\\n",
    "    +'_numcircuits_'+str(num_circuits)\n",
    "\n",
    "pl.plot(E_av_dict[basename], color ='orange')\n",
    "\n",
    "mode = 'times3nb'\n",
    "basename='backend_'+backendname+'_shots_'+str(shots) \\\n",
    "    +'_noisemodel_'+noisemodelname+'_errorlevel_'+ mode \\\n",
    "    +'_numcircuits_'+str(num_circuits)\n",
    "\n",
    "pl.plot(E_av_dict[basename], color ='pink')\n",
    "\n",
    "mode = 'times5'\n",
    "basename='backend_'+backendname+'_shots_'+str(shots) \\\n",
    "    +'_noisemodel_'+noisemodelname+'_errorlevel_'+ mode \\\n",
    "    +'_numcircuits_'+str(num_circuits)\n",
    "\n",
    "pl.plot(E_av_dict[basename], color ='black')\n",
    "\n",
    "pl.plot(4*np.ones_like(E_av_dict[basename]))"
   ]
  },
  {
   "cell_type": "code",
   "execution_count": null,
   "metadata": {},
   "outputs": [],
   "source": []
  }
 ],
 "metadata": {
  "kernelspec": {
   "display_name": "Python 3",
   "language": "python",
   "name": "python3"
  },
  "language_info": {
   "codemirror_mode": {
    "name": "ipython",
    "version": 3
   },
   "file_extension": ".py",
   "mimetype": "text/x-python",
   "name": "python",
   "nbconvert_exporter": "python",
   "pygments_lexer": "ipython3",
   "version": "3.6.5-final"
  }
 },
 "nbformat": 4,
 "nbformat_minor": 2
}